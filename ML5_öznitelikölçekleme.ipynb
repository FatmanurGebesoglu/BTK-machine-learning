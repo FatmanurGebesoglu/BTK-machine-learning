{
  "nbformat": 4,
  "nbformat_minor": 0,
  "metadata": {
    "colab": {
      "name": "ML5-öznitelikölçekleme.ipynb",
      "provenance": []
    },
    "kernelspec": {
      "name": "python3",
      "display_name": "Python 3"
    },
    "language_info": {
      "name": "python"
    }
  },
  "cells": [
    {
      "cell_type": "markdown",
      "source": [
        "veri tiplerini değiştirme"
      ],
      "metadata": {
        "id": "N2M3T8BJ-Hv7"
      }
    },
    {
      "cell_type": "code",
      "execution_count": 52,
      "metadata": {
        "id": "4dhMLA7b3sXt"
      },
      "outputs": [],
      "source": [
        "import numpy as np\n",
        "import pandas as pd\n",
        "import matplotlib.pyplot as plt"
      ]
    },
    {
      "cell_type": "code",
      "source": [
        "veriler= pd.read_csv(\"eksikveriler.csv\")\n",
        "print(veriler)"
      ],
      "metadata": {
        "colab": {
          "base_uri": "https://localhost:8080/"
        },
        "id": "KDC2T2jX5fnH",
        "outputId": "b8d83ce8-a997-417b-8ed5-65b9fdc17c8a"
      },
      "execution_count": 53,
      "outputs": [
        {
          "output_type": "stream",
          "name": "stdout",
          "text": [
            "   ulke  boy  kilo   yas cinsiyet\n",
            "0    tr  130    30  10.0        e\n",
            "1    tr  125    36  11.0        e\n",
            "2    tr  135    34  10.0        k\n",
            "3    tr  133    30   9.0        k\n",
            "4    tr  129    38  12.0        e\n",
            "5    tr  180    90  30.0        e\n",
            "6    tr  190    80  25.0        e\n",
            "7    tr  175    90  35.0        e\n",
            "8    tr  177    60  22.0        k\n",
            "9    us  185   105  33.0        e\n",
            "10   us  165    55  27.0        k\n",
            "11   us  155    50  44.0        k\n",
            "12   us  160    58   NaN        k\n",
            "13   us  162    59  41.0        k\n",
            "14   us  167    62  55.0        k\n",
            "15   fr  174    70  47.0        e\n",
            "16   fr  193    90   NaN        e\n",
            "17   fr  187    80  27.0        e\n",
            "18   fr  183    88  28.0        e\n",
            "19   fr  159    40  29.0        k\n",
            "20   fr  164    66  32.0        k\n",
            "21   fr  166    56  42.0        k\n"
          ]
        }
      ]
    },
    {
      "cell_type": "code",
      "source": [
        "from sklearn.impute import SimpleImputer\n",
        "imputer=SimpleImputer(missing_values=np.nan, strategy='mean')"
      ],
      "metadata": {
        "id": "SlIau7s_4xhP"
      },
      "execution_count": 54,
      "outputs": []
    },
    {
      "cell_type": "code",
      "source": [
        "Yas = veriler.iloc[:,1:4].values"
      ],
      "metadata": {
        "id": "kPx78W285QUg"
      },
      "execution_count": 55,
      "outputs": []
    },
    {
      "cell_type": "code",
      "source": [
        "imputer=imputer.fit(Yas[:,1:4])\n",
        "Yas[:,1:4]=imputer.transform(Yas[:,1:4])\n",
        "print(Yas)"
      ],
      "metadata": {
        "colab": {
          "base_uri": "https://localhost:8080/"
        },
        "id": "z71xksqw5ASu",
        "outputId": "a0dc658d-2405-4386-c5d7-15af91d66599"
      },
      "execution_count": 56,
      "outputs": [
        {
          "output_type": "stream",
          "name": "stdout",
          "text": [
            "[[130.    30.    10.  ]\n",
            " [125.    36.    11.  ]\n",
            " [135.    34.    10.  ]\n",
            " [133.    30.     9.  ]\n",
            " [129.    38.    12.  ]\n",
            " [180.    90.    30.  ]\n",
            " [190.    80.    25.  ]\n",
            " [175.    90.    35.  ]\n",
            " [177.    60.    22.  ]\n",
            " [185.   105.    33.  ]\n",
            " [165.    55.    27.  ]\n",
            " [155.    50.    44.  ]\n",
            " [160.    58.    28.45]\n",
            " [162.    59.    41.  ]\n",
            " [167.    62.    55.  ]\n",
            " [174.    70.    47.  ]\n",
            " [193.    90.    28.45]\n",
            " [187.    80.    27.  ]\n",
            " [183.    88.    28.  ]\n",
            " [159.    40.    29.  ]\n",
            " [164.    66.    32.  ]\n",
            " [166.    56.    42.  ]]\n"
          ]
        }
      ]
    },
    {
      "cell_type": "code",
      "source": [
        "ulke =veriler.iloc[:,0:1].values\n",
        "print(ulke)"
      ],
      "metadata": {
        "colab": {
          "base_uri": "https://localhost:8080/"
        },
        "id": "htdK3OYd5nMd",
        "outputId": "6589f834-3b77-45ee-8518-6f1457a0316a"
      },
      "execution_count": 57,
      "outputs": [
        {
          "output_type": "stream",
          "name": "stdout",
          "text": [
            "[['tr']\n",
            " ['tr']\n",
            " ['tr']\n",
            " ['tr']\n",
            " ['tr']\n",
            " ['tr']\n",
            " ['tr']\n",
            " ['tr']\n",
            " ['tr']\n",
            " ['us']\n",
            " ['us']\n",
            " ['us']\n",
            " ['us']\n",
            " ['us']\n",
            " ['us']\n",
            " ['fr']\n",
            " ['fr']\n",
            " ['fr']\n",
            " ['fr']\n",
            " ['fr']\n",
            " ['fr']\n",
            " ['fr']]\n"
          ]
        }
      ]
    },
    {
      "cell_type": "code",
      "source": [
        "from sklearn import preprocessing\n",
        "le= preprocessing.LabelEncoder()"
      ],
      "metadata": {
        "id": "nMjjZ_k951-X"
      },
      "execution_count": 58,
      "outputs": []
    },
    {
      "cell_type": "code",
      "source": [
        "ulke[:,0]=le.fit_transform(veriler.iloc[:,0])\n",
        "print(ulke)"
      ],
      "metadata": {
        "colab": {
          "base_uri": "https://localhost:8080/"
        },
        "id": "55IWWh6Z6aJk",
        "outputId": "a7a18dce-0328-410b-8d3e-ae73d69c9f43"
      },
      "execution_count": 59,
      "outputs": [
        {
          "output_type": "stream",
          "name": "stdout",
          "text": [
            "[[1]\n",
            " [1]\n",
            " [1]\n",
            " [1]\n",
            " [1]\n",
            " [1]\n",
            " [1]\n",
            " [1]\n",
            " [1]\n",
            " [2]\n",
            " [2]\n",
            " [2]\n",
            " [2]\n",
            " [2]\n",
            " [2]\n",
            " [0]\n",
            " [0]\n",
            " [0]\n",
            " [0]\n",
            " [0]\n",
            " [0]\n",
            " [0]]\n"
          ]
        }
      ]
    },
    {
      "cell_type": "code",
      "source": [
        "ohe = preprocessing.OneHotEncoder()\n",
        "ulke= ohe.fit_transform(ulke).toarray()\n",
        "print(ulke)"
      ],
      "metadata": {
        "colab": {
          "base_uri": "https://localhost:8080/"
        },
        "id": "5txFk27O680z",
        "outputId": "f6f75684-767f-48cd-c1d5-8cb430c9f07b"
      },
      "execution_count": 60,
      "outputs": [
        {
          "output_type": "stream",
          "name": "stdout",
          "text": [
            "[[0. 1. 0.]\n",
            " [0. 1. 0.]\n",
            " [0. 1. 0.]\n",
            " [0. 1. 0.]\n",
            " [0. 1. 0.]\n",
            " [0. 1. 0.]\n",
            " [0. 1. 0.]\n",
            " [0. 1. 0.]\n",
            " [0. 1. 0.]\n",
            " [0. 0. 1.]\n",
            " [0. 0. 1.]\n",
            " [0. 0. 1.]\n",
            " [0. 0. 1.]\n",
            " [0. 0. 1.]\n",
            " [0. 0. 1.]\n",
            " [1. 0. 0.]\n",
            " [1. 0. 0.]\n",
            " [1. 0. 0.]\n",
            " [1. 0. 0.]\n",
            " [1. 0. 0.]\n",
            " [1. 0. 0.]\n",
            " [1. 0. 0.]]\n"
          ]
        }
      ]
    },
    {
      "cell_type": "code",
      "source": [
        "sonuc=pd.DataFrame(data=ulke, index=range(22),columns=['fr','tr','us'])\n",
        "print(sonuc)"
      ],
      "metadata": {
        "colab": {
          "base_uri": "https://localhost:8080/"
        },
        "id": "u3_f8km-BwTH",
        "outputId": "184b9f00-ea2d-4be0-bfee-5d1cb272d6d6"
      },
      "execution_count": 61,
      "outputs": [
        {
          "output_type": "stream",
          "name": "stdout",
          "text": [
            "     fr   tr   us\n",
            "0   0.0  1.0  0.0\n",
            "1   0.0  1.0  0.0\n",
            "2   0.0  1.0  0.0\n",
            "3   0.0  1.0  0.0\n",
            "4   0.0  1.0  0.0\n",
            "5   0.0  1.0  0.0\n",
            "6   0.0  1.0  0.0\n",
            "7   0.0  1.0  0.0\n",
            "8   0.0  1.0  0.0\n",
            "9   0.0  0.0  1.0\n",
            "10  0.0  0.0  1.0\n",
            "11  0.0  0.0  1.0\n",
            "12  0.0  0.0  1.0\n",
            "13  0.0  0.0  1.0\n",
            "14  0.0  0.0  1.0\n",
            "15  1.0  0.0  0.0\n",
            "16  1.0  0.0  0.0\n",
            "17  1.0  0.0  0.0\n",
            "18  1.0  0.0  0.0\n",
            "19  1.0  0.0  0.0\n",
            "20  1.0  0.0  0.0\n",
            "21  1.0  0.0  0.0\n"
          ]
        }
      ]
    },
    {
      "cell_type": "code",
      "source": [
        "sonuc2=pd.DataFrame(data=Yas, index=range(22), columns=['boy','kilo','yas'])\n",
        "print(sonuc2)"
      ],
      "metadata": {
        "colab": {
          "base_uri": "https://localhost:8080/"
        },
        "id": "3dbiiHmLCumG",
        "outputId": "3193bf06-bd73-4af7-909a-58c97ba0e2e5"
      },
      "execution_count": 62,
      "outputs": [
        {
          "output_type": "stream",
          "name": "stdout",
          "text": [
            "      boy   kilo    yas\n",
            "0   130.0   30.0  10.00\n",
            "1   125.0   36.0  11.00\n",
            "2   135.0   34.0  10.00\n",
            "3   133.0   30.0   9.00\n",
            "4   129.0   38.0  12.00\n",
            "5   180.0   90.0  30.00\n",
            "6   190.0   80.0  25.00\n",
            "7   175.0   90.0  35.00\n",
            "8   177.0   60.0  22.00\n",
            "9   185.0  105.0  33.00\n",
            "10  165.0   55.0  27.00\n",
            "11  155.0   50.0  44.00\n",
            "12  160.0   58.0  28.45\n",
            "13  162.0   59.0  41.00\n",
            "14  167.0   62.0  55.00\n",
            "15  174.0   70.0  47.00\n",
            "16  193.0   90.0  28.45\n",
            "17  187.0   80.0  27.00\n",
            "18  183.0   88.0  28.00\n",
            "19  159.0   40.0  29.00\n",
            "20  164.0   66.0  32.00\n",
            "21  166.0   56.0  42.00\n"
          ]
        }
      ]
    },
    {
      "cell_type": "code",
      "source": [
        "cinsiyet= veriler.iloc[:,-1].values\n",
        "print(cinsiyet)"
      ],
      "metadata": {
        "colab": {
          "base_uri": "https://localhost:8080/"
        },
        "id": "EEYR0PykH2KM",
        "outputId": "727f3590-56c5-4d99-ad28-a11151a44a63"
      },
      "execution_count": 63,
      "outputs": [
        {
          "output_type": "stream",
          "name": "stdout",
          "text": [
            "['e' 'e' 'k' 'k' 'e' 'e' 'e' 'e' 'k' 'e' 'k' 'k' 'k' 'k' 'k' 'e' 'e' 'e'\n",
            " 'e' 'k' 'k' 'k']\n"
          ]
        }
      ]
    },
    {
      "cell_type": "code",
      "source": [
        "sonuc3=pd.DataFrame(data=cinsiyet, index=range(22),columns=['cinsiyet'])\n",
        "print(sonuc3)"
      ],
      "metadata": {
        "colab": {
          "base_uri": "https://localhost:8080/"
        },
        "id": "SYltZMnUIF47",
        "outputId": "9679066c-b63f-492c-f985-7d066ef8b9aa"
      },
      "execution_count": 64,
      "outputs": [
        {
          "output_type": "stream",
          "name": "stdout",
          "text": [
            "   cinsiyet\n",
            "0         e\n",
            "1         e\n",
            "2         k\n",
            "3         k\n",
            "4         e\n",
            "5         e\n",
            "6         e\n",
            "7         e\n",
            "8         k\n",
            "9         e\n",
            "10        k\n",
            "11        k\n",
            "12        k\n",
            "13        k\n",
            "14        k\n",
            "15        e\n",
            "16        e\n",
            "17        e\n",
            "18        e\n",
            "19        k\n",
            "20        k\n",
            "21        k\n"
          ]
        }
      ]
    },
    {
      "cell_type": "code",
      "source": [
        "#farklı data frameleri birleştirmek için\n",
        "s=pd.concat([sonuc,sonuc2],axis=1)\n",
        "print(s)"
      ],
      "metadata": {
        "colab": {
          "base_uri": "https://localhost:8080/"
        },
        "id": "ZWtuZOxaIklN",
        "outputId": "44d1f572-326d-4b61-96a1-092d0fee06c5"
      },
      "execution_count": 65,
      "outputs": [
        {
          "output_type": "stream",
          "name": "stdout",
          "text": [
            "     fr   tr   us    boy   kilo    yas\n",
            "0   0.0  1.0  0.0  130.0   30.0  10.00\n",
            "1   0.0  1.0  0.0  125.0   36.0  11.00\n",
            "2   0.0  1.0  0.0  135.0   34.0  10.00\n",
            "3   0.0  1.0  0.0  133.0   30.0   9.00\n",
            "4   0.0  1.0  0.0  129.0   38.0  12.00\n",
            "5   0.0  1.0  0.0  180.0   90.0  30.00\n",
            "6   0.0  1.0  0.0  190.0   80.0  25.00\n",
            "7   0.0  1.0  0.0  175.0   90.0  35.00\n",
            "8   0.0  1.0  0.0  177.0   60.0  22.00\n",
            "9   0.0  0.0  1.0  185.0  105.0  33.00\n",
            "10  0.0  0.0  1.0  165.0   55.0  27.00\n",
            "11  0.0  0.0  1.0  155.0   50.0  44.00\n",
            "12  0.0  0.0  1.0  160.0   58.0  28.45\n",
            "13  0.0  0.0  1.0  162.0   59.0  41.00\n",
            "14  0.0  0.0  1.0  167.0   62.0  55.00\n",
            "15  1.0  0.0  0.0  174.0   70.0  47.00\n",
            "16  1.0  0.0  0.0  193.0   90.0  28.45\n",
            "17  1.0  0.0  0.0  187.0   80.0  27.00\n",
            "18  1.0  0.0  0.0  183.0   88.0  28.00\n",
            "19  1.0  0.0  0.0  159.0   40.0  29.00\n",
            "20  1.0  0.0  0.0  164.0   66.0  32.00\n",
            "21  1.0  0.0  0.0  166.0   56.0  42.00\n"
          ]
        }
      ]
    },
    {
      "cell_type": "code",
      "source": [
        "s2=pd.concat([s,sonuc3],axis=1)\n",
        "print(s2)"
      ],
      "metadata": {
        "colab": {
          "base_uri": "https://localhost:8080/"
        },
        "id": "4mGzHK0dJRt2",
        "outputId": "2beaf112-35cb-479e-9aa7-ba7b22a20b8d"
      },
      "execution_count": 66,
      "outputs": [
        {
          "output_type": "stream",
          "name": "stdout",
          "text": [
            "     fr   tr   us    boy   kilo    yas cinsiyet\n",
            "0   0.0  1.0  0.0  130.0   30.0  10.00        e\n",
            "1   0.0  1.0  0.0  125.0   36.0  11.00        e\n",
            "2   0.0  1.0  0.0  135.0   34.0  10.00        k\n",
            "3   0.0  1.0  0.0  133.0   30.0   9.00        k\n",
            "4   0.0  1.0  0.0  129.0   38.0  12.00        e\n",
            "5   0.0  1.0  0.0  180.0   90.0  30.00        e\n",
            "6   0.0  1.0  0.0  190.0   80.0  25.00        e\n",
            "7   0.0  1.0  0.0  175.0   90.0  35.00        e\n",
            "8   0.0  1.0  0.0  177.0   60.0  22.00        k\n",
            "9   0.0  0.0  1.0  185.0  105.0  33.00        e\n",
            "10  0.0  0.0  1.0  165.0   55.0  27.00        k\n",
            "11  0.0  0.0  1.0  155.0   50.0  44.00        k\n",
            "12  0.0  0.0  1.0  160.0   58.0  28.45        k\n",
            "13  0.0  0.0  1.0  162.0   59.0  41.00        k\n",
            "14  0.0  0.0  1.0  167.0   62.0  55.00        k\n",
            "15  1.0  0.0  0.0  174.0   70.0  47.00        e\n",
            "16  1.0  0.0  0.0  193.0   90.0  28.45        e\n",
            "17  1.0  0.0  0.0  187.0   80.0  27.00        e\n",
            "18  1.0  0.0  0.0  183.0   88.0  28.00        e\n",
            "19  1.0  0.0  0.0  159.0   40.0  29.00        k\n",
            "20  1.0  0.0  0.0  164.0   66.0  32.00        k\n",
            "21  1.0  0.0  0.0  166.0   56.0  42.00        k\n"
          ]
        }
      ]
    },
    {
      "cell_type": "code",
      "source": [
        "from sklearn.model_selection import train_test_split\n",
        "x_train, x_test, y_train, y_test= train_test_split(s,sonuc3,test_size=0.33, random_state=0)\n",
        "#data frameler bölündü\n",
        "#4 tane veri kümesi oluşur 2 test 2 eğitim"
      ],
      "metadata": {
        "id": "_p-bocRrK-OO"
      },
      "execution_count": 67,
      "outputs": []
    },
    {
      "cell_type": "code",
      "source": [
        "from sklearn.preprocessing import StandardScaler\n",
        "sc= StandardScaler()"
      ],
      "metadata": {
        "id": "EaeWUL7FOUJi"
      },
      "execution_count": 69,
      "outputs": []
    },
    {
      "cell_type": "code",
      "source": [
        "X_train=sc.fit_transform(x_train)\n",
        "X_test= sc.fit_transform(x_test)\n",
        "#veri tiplerini birleştirdi"
      ],
      "metadata": {
        "id": "LQDIemhSR1EG"
      },
      "execution_count": 71,
      "outputs": []
    }
  ]
}