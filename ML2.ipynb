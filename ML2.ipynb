{
  "nbformat": 4,
  "nbformat_minor": 0,
  "metadata": {
    "colab": {
      "name": "ML2.ipynb",
      "provenance": []
    },
    "kernelspec": {
      "name": "python3",
      "display_name": "Python 3"
    },
    "language_info": {
      "name": "python"
    }
  },
  "cells": [
    {
      "cell_type": "markdown",
      "source": [
        "veri tiplerini değiştirme"
      ],
      "metadata": {
        "id": "N2M3T8BJ-Hv7"
      }
    },
    {
      "cell_type": "code",
      "execution_count": 30,
      "metadata": {
        "id": "4dhMLA7b3sXt"
      },
      "outputs": [],
      "source": [
        "import numpy as np\n",
        "import pandas as pd\n",
        "import matplotlib.pyplot as plt"
      ]
    },
    {
      "cell_type": "code",
      "source": [
        "veriler= pd.read_csv(\"eksikveriler.csv\")\n",
        "print(veriler)"
      ],
      "metadata": {
        "colab": {
          "base_uri": "https://localhost:8080/"
        },
        "id": "KDC2T2jX5fnH",
        "outputId": "fb6b1533-f094-4f9d-dbe4-bdc43c4b18bc"
      },
      "execution_count": 31,
      "outputs": [
        {
          "output_type": "stream",
          "name": "stdout",
          "text": [
            "   ulke  boy  kilo   yas cinsiyet\n",
            "0    tr  130    30  10.0        e\n",
            "1    tr  125    36  11.0        e\n",
            "2    tr  135    34  10.0        k\n",
            "3    tr  133    30   9.0        k\n",
            "4    tr  129    38  12.0        e\n",
            "5    tr  180    90  30.0        e\n",
            "6    tr  190    80  25.0        e\n",
            "7    tr  175    90  35.0        e\n",
            "8    tr  177    60  22.0        k\n",
            "9    us  185   105  33.0        e\n",
            "10   us  165    55  27.0        k\n",
            "11   us  155    50  44.0        k\n",
            "12   us  160    58   NaN        k\n",
            "13   us  162    59  41.0        k\n",
            "14   us  167    62  55.0        k\n",
            "15   fr  174    70  47.0        e\n",
            "16   fr  193    90   NaN        e\n",
            "17   fr  187    80  27.0        e\n",
            "18   fr  183    88  28.0        e\n",
            "19   fr  159    40  29.0        k\n",
            "20   fr  164    66  32.0        k\n",
            "21   fr  166    56  42.0        k\n"
          ]
        }
      ]
    },
    {
      "cell_type": "code",
      "source": [
        "from sklearn.impute import SimpleImputer\n",
        "imputer=SimpleImputer(missing_values=np.nan, strategy='mean')"
      ],
      "metadata": {
        "id": "SlIau7s_4xhP"
      },
      "execution_count": 32,
      "outputs": []
    },
    {
      "cell_type": "code",
      "source": [
        "Yas = veriler.iloc[:,1:4].values"
      ],
      "metadata": {
        "id": "kPx78W285QUg"
      },
      "execution_count": 33,
      "outputs": []
    },
    {
      "cell_type": "code",
      "source": [
        "imputer=imputer.fit(Yas[:,1:4])\n",
        "Yas[:,1:4]=imputer.transform(Yas[:,1:4])\n",
        "print(Yas)"
      ],
      "metadata": {
        "colab": {
          "base_uri": "https://localhost:8080/"
        },
        "id": "z71xksqw5ASu",
        "outputId": "507f7fcf-ff87-4647-a8f3-b851113d1126"
      },
      "execution_count": 34,
      "outputs": [
        {
          "output_type": "stream",
          "name": "stdout",
          "text": [
            "[[130.    30.    10.  ]\n",
            " [125.    36.    11.  ]\n",
            " [135.    34.    10.  ]\n",
            " [133.    30.     9.  ]\n",
            " [129.    38.    12.  ]\n",
            " [180.    90.    30.  ]\n",
            " [190.    80.    25.  ]\n",
            " [175.    90.    35.  ]\n",
            " [177.    60.    22.  ]\n",
            " [185.   105.    33.  ]\n",
            " [165.    55.    27.  ]\n",
            " [155.    50.    44.  ]\n",
            " [160.    58.    28.45]\n",
            " [162.    59.    41.  ]\n",
            " [167.    62.    55.  ]\n",
            " [174.    70.    47.  ]\n",
            " [193.    90.    28.45]\n",
            " [187.    80.    27.  ]\n",
            " [183.    88.    28.  ]\n",
            " [159.    40.    29.  ]\n",
            " [164.    66.    32.  ]\n",
            " [166.    56.    42.  ]]\n"
          ]
        }
      ]
    },
    {
      "cell_type": "code",
      "source": [
        "ulke =veriler.iloc[:,0:1].values\n",
        "print(ulke)"
      ],
      "metadata": {
        "colab": {
          "base_uri": "https://localhost:8080/"
        },
        "id": "htdK3OYd5nMd",
        "outputId": "caca57e0-ca0b-4478-e64e-f74ff6642bda"
      },
      "execution_count": 35,
      "outputs": [
        {
          "output_type": "stream",
          "name": "stdout",
          "text": [
            "[['tr']\n",
            " ['tr']\n",
            " ['tr']\n",
            " ['tr']\n",
            " ['tr']\n",
            " ['tr']\n",
            " ['tr']\n",
            " ['tr']\n",
            " ['tr']\n",
            " ['us']\n",
            " ['us']\n",
            " ['us']\n",
            " ['us']\n",
            " ['us']\n",
            " ['us']\n",
            " ['fr']\n",
            " ['fr']\n",
            " ['fr']\n",
            " ['fr']\n",
            " ['fr']\n",
            " ['fr']\n",
            " ['fr']]\n"
          ]
        }
      ]
    },
    {
      "cell_type": "code",
      "source": [
        "from sklearn import preprocessing\n",
        "le= preprocessing.LabelEncoder()"
      ],
      "metadata": {
        "id": "nMjjZ_k951-X"
      },
      "execution_count": 36,
      "outputs": []
    },
    {
      "cell_type": "code",
      "source": [
        "ulke[:,0]=le.fit_transform(veriler.iloc[:,0])\n",
        "print(ulke)"
      ],
      "metadata": {
        "colab": {
          "base_uri": "https://localhost:8080/"
        },
        "id": "55IWWh6Z6aJk",
        "outputId": "66a9ebd4-0628-4837-e510-35deae1301a9"
      },
      "execution_count": 37,
      "outputs": [
        {
          "output_type": "stream",
          "name": "stdout",
          "text": [
            "[[1]\n",
            " [1]\n",
            " [1]\n",
            " [1]\n",
            " [1]\n",
            " [1]\n",
            " [1]\n",
            " [1]\n",
            " [1]\n",
            " [2]\n",
            " [2]\n",
            " [2]\n",
            " [2]\n",
            " [2]\n",
            " [2]\n",
            " [0]\n",
            " [0]\n",
            " [0]\n",
            " [0]\n",
            " [0]\n",
            " [0]\n",
            " [0]]\n"
          ]
        }
      ]
    },
    {
      "cell_type": "code",
      "source": [
        "ohe = preprocessing.OneHotEncoder()\n",
        "ulke= ohe.fit_transform(ulke).toarray()\n",
        "print(ulke)"
      ],
      "metadata": {
        "colab": {
          "base_uri": "https://localhost:8080/"
        },
        "id": "5txFk27O680z",
        "outputId": "e640d528-8024-48b6-bdf2-cb16c31c8e9f"
      },
      "execution_count": 38,
      "outputs": [
        {
          "output_type": "stream",
          "name": "stdout",
          "text": [
            "[[0. 1. 0.]\n",
            " [0. 1. 0.]\n",
            " [0. 1. 0.]\n",
            " [0. 1. 0.]\n",
            " [0. 1. 0.]\n",
            " [0. 1. 0.]\n",
            " [0. 1. 0.]\n",
            " [0. 1. 0.]\n",
            " [0. 1. 0.]\n",
            " [0. 0. 1.]\n",
            " [0. 0. 1.]\n",
            " [0. 0. 1.]\n",
            " [0. 0. 1.]\n",
            " [0. 0. 1.]\n",
            " [0. 0. 1.]\n",
            " [1. 0. 0.]\n",
            " [1. 0. 0.]\n",
            " [1. 0. 0.]\n",
            " [1. 0. 0.]\n",
            " [1. 0. 0.]\n",
            " [1. 0. 0.]\n",
            " [1. 0. 0.]]\n"
          ]
        }
      ]
    }
  ]
}