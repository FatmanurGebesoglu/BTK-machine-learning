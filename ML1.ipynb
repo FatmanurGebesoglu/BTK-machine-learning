{
  "nbformat": 4,
  "nbformat_minor": 0,
  "metadata": {
    "colab": {
      "name": "ML1.ipynb",
      "provenance": []
    },
    "kernelspec": {
      "name": "python3",
      "display_name": "Python 3"
    },
    "language_info": {
      "name": "python"
    }
  },
  "cells": [
    {
      "cell_type": "code",
      "execution_count": 1,
      "metadata": {
        "id": "yoOMlCPYa7NL"
      },
      "outputs": [],
      "source": [
        "import numpy as np\n",
        "import pandas as pd\n",
        "import matplotlib.pyplot as plt\n"
      ]
    },
    {
      "cell_type": "code",
      "source": [
        "veriler= pd.read_csv(\"veriler.csv\")\n",
        "print(veriler)"
      ],
      "metadata": {
        "colab": {
          "base_uri": "https://localhost:8080/"
        },
        "id": "6dn7GvnTciL7",
        "outputId": "907bea6e-8833-405e-c466-712d904d2910"
      },
      "execution_count": 5,
      "outputs": [
        {
          "output_type": "stream",
          "name": "stdout",
          "text": [
            "   ulke  boy  kilo  yas cinsiyet\n",
            "0    tr  130    30   10        e\n",
            "1    tr  125    36   11        e\n",
            "2    tr  135    34   10        k\n",
            "3    tr  133    30    9        k\n",
            "4    tr  129    38   12        e\n",
            "5    tr  180    90   30        e\n",
            "6    tr  190    80   25        e\n",
            "7    tr  175    90   35        e\n",
            "8    tr  177    60   22        k\n",
            "9    us  185   105   33        e\n",
            "10   us  165    55   27        k\n",
            "11   us  155    50   44        k\n",
            "12   us  160    58   39        k\n",
            "13   us  162    59   41        k\n",
            "14   us  167    62   55        k\n",
            "15   fr  174    70   47        e\n",
            "16   fr  193    90   23        e\n",
            "17   fr  187    80   27        e\n",
            "18   fr  183    88   28        e\n",
            "19   fr  159    40   29        k\n",
            "20   fr  164    66   32        k\n",
            "21   fr  166    56   42        k\n"
          ]
        }
      ]
    },
    {
      "cell_type": "code",
      "source": [
        "boy=veriler[[\"boy\"]]\n",
        "print(boy)"
      ],
      "metadata": {
        "colab": {
          "base_uri": "https://localhost:8080/"
        },
        "id": "cIXcXe1JdJh0",
        "outputId": "7caf528a-2778-44e8-8ed8-713be28cb9e5"
      },
      "execution_count": 6,
      "outputs": [
        {
          "output_type": "stream",
          "name": "stdout",
          "text": [
            "    boy\n",
            "0   130\n",
            "1   125\n",
            "2   135\n",
            "3   133\n",
            "4   129\n",
            "5   180\n",
            "6   190\n",
            "7   175\n",
            "8   177\n",
            "9   185\n",
            "10  165\n",
            "11  155\n",
            "12  160\n",
            "13  162\n",
            "14  167\n",
            "15  174\n",
            "16  193\n",
            "17  187\n",
            "18  183\n",
            "19  159\n",
            "20  164\n",
            "21  166\n"
          ]
        }
      ]
    },
    {
      "cell_type": "code",
      "source": [
        "boykilo=veriler[[\"boy\",\"kilo\"]]\n",
        "print(boykilo)"
      ],
      "metadata": {
        "colab": {
          "base_uri": "https://localhost:8080/"
        },
        "id": "TXYZnRUueSLs",
        "outputId": "7f137099-badf-47e6-8eda-3f3b6c001059"
      },
      "execution_count": 7,
      "outputs": [
        {
          "output_type": "stream",
          "name": "stdout",
          "text": [
            "    boy  kilo\n",
            "0   130    30\n",
            "1   125    36\n",
            "2   135    34\n",
            "3   133    30\n",
            "4   129    38\n",
            "5   180    90\n",
            "6   190    80\n",
            "7   175    90\n",
            "8   177    60\n",
            "9   185   105\n",
            "10  165    55\n",
            "11  155    50\n",
            "12  160    58\n",
            "13  162    59\n",
            "14  167    62\n",
            "15  174    70\n",
            "16  193    90\n",
            "17  187    80\n",
            "18  183    88\n",
            "19  159    40\n",
            "20  164    66\n",
            "21  166    56\n"
          ]
        }
      ]
    },
    {
      "cell_type": "code",
      "source": [
        "class insan:\n",
        "  boy=180\n",
        "  def kosmak(self,b):\n",
        "    return b + 10"
      ],
      "metadata": {
        "id": "A9XDLSR8fFrG"
      },
      "execution_count": 12,
      "outputs": []
    },
    {
      "cell_type": "code",
      "source": [
        "ali=insan()\n"
      ],
      "metadata": {
        "id": "Gh5dC_udfXCj"
      },
      "execution_count": 9,
      "outputs": []
    },
    {
      "cell_type": "code",
      "source": [
        "print(ali.boy)"
      ],
      "metadata": {
        "colab": {
          "base_uri": "https://localhost:8080/"
        },
        "id": "rwdIl6Vuf9HJ",
        "outputId": "c851dec5-4d36-41fd-9bc0-a64d6012f994"
      },
      "execution_count": 10,
      "outputs": [
        {
          "output_type": "stream",
          "name": "stdout",
          "text": [
            "180\n"
          ]
        }
      ]
    },
    {
      "cell_type": "code",
      "source": [
        "veriler= pd.read_csv(\"eksikveriler.csv\")\n",
        "print(veriler)"
      ],
      "metadata": {
        "colab": {
          "base_uri": "https://localhost:8080/"
        },
        "id": "0euK3Jjth5pc",
        "outputId": "6a148de7-4f34-489b-8d20-14f1f10c5dc0"
      },
      "execution_count": 15,
      "outputs": [
        {
          "output_type": "stream",
          "name": "stdout",
          "text": [
            "   ulke  boy  kilo   yas cinsiyet\n",
            "0    tr  130    30  10.0        e\n",
            "1    tr  125    36  11.0        e\n",
            "2    tr  135    34  10.0        k\n",
            "3    tr  133    30   9.0        k\n",
            "4    tr  129    38  12.0        e\n",
            "5    tr  180    90  30.0        e\n",
            "6    tr  190    80  25.0        e\n",
            "7    tr  175    90  35.0        e\n",
            "8    tr  177    60  22.0        k\n",
            "9    us  185   105  33.0        e\n",
            "10   us  165    55  27.0        k\n",
            "11   us  155    50  44.0        k\n",
            "12   us  160    58   NaN        k\n",
            "13   us  162    59  41.0        k\n",
            "14   us  167    62  55.0        k\n",
            "15   fr  174    70  47.0        e\n",
            "16   fr  193    90   NaN        e\n",
            "17   fr  187    80  27.0        e\n",
            "18   fr  183    88  28.0        e\n",
            "19   fr  159    40  29.0        k\n",
            "20   fr  164    66  32.0        k\n",
            "21   fr  166    56  42.0        k\n"
          ]
        }
      ]
    },
    {
      "cell_type": "code",
      "source": [
        "from sklearn.impute import SimpleImputer\n",
        "imputer=SimpleImputer(missing_values=np.nan, strategy='mean')"
      ],
      "metadata": {
        "id": "nho1_BI8jsPN"
      },
      "execution_count": 18,
      "outputs": []
    },
    {
      "cell_type": "code",
      "source": [
        "Yas = veriler.iloc[:,1:4].values"
      ],
      "metadata": {
        "id": "ysuSpxbtkxES"
      },
      "execution_count": 19,
      "outputs": []
    },
    {
      "cell_type": "code",
      "source": [
        "print(Yas)"
      ],
      "metadata": {
        "colab": {
          "base_uri": "https://localhost:8080/"
        },
        "id": "9XRO5eLlusD5",
        "outputId": "34fda47a-1dbd-4dbf-ad13-7c2d701a0ca2"
      },
      "execution_count": 20,
      "outputs": [
        {
          "output_type": "stream",
          "name": "stdout",
          "text": [
            "[[130.  30.  10.]\n",
            " [125.  36.  11.]\n",
            " [135.  34.  10.]\n",
            " [133.  30.   9.]\n",
            " [129.  38.  12.]\n",
            " [180.  90.  30.]\n",
            " [190.  80.  25.]\n",
            " [175.  90.  35.]\n",
            " [177.  60.  22.]\n",
            " [185. 105.  33.]\n",
            " [165.  55.  27.]\n",
            " [155.  50.  44.]\n",
            " [160.  58.  nan]\n",
            " [162.  59.  41.]\n",
            " [167.  62.  55.]\n",
            " [174.  70.  47.]\n",
            " [193.  90.  nan]\n",
            " [187.  80.  27.]\n",
            " [183.  88.  28.]\n",
            " [159.  40.  29.]\n",
            " [164.  66.  32.]\n",
            " [166.  56.  42.]]\n"
          ]
        }
      ]
    },
    {
      "cell_type": "code",
      "source": [
        "imputer=imputer.fit(Yas[:,1:4])\n",
        "Yas[:,1:4]=imputer.transform(Yas[:,1:4])\n",
        "print(Yas)"
      ],
      "metadata": {
        "colab": {
          "base_uri": "https://localhost:8080/"
        },
        "id": "4eCeSqWMu0iP",
        "outputId": "85108d60-fb59-4cee-f06b-2cf647804c3f"
      },
      "execution_count": 21,
      "outputs": [
        {
          "output_type": "stream",
          "name": "stdout",
          "text": [
            "[[130.    30.    10.  ]\n",
            " [125.    36.    11.  ]\n",
            " [135.    34.    10.  ]\n",
            " [133.    30.     9.  ]\n",
            " [129.    38.    12.  ]\n",
            " [180.    90.    30.  ]\n",
            " [190.    80.    25.  ]\n",
            " [175.    90.    35.  ]\n",
            " [177.    60.    22.  ]\n",
            " [185.   105.    33.  ]\n",
            " [165.    55.    27.  ]\n",
            " [155.    50.    44.  ]\n",
            " [160.    58.    28.45]\n",
            " [162.    59.    41.  ]\n",
            " [167.    62.    55.  ]\n",
            " [174.    70.    47.  ]\n",
            " [193.    90.    28.45]\n",
            " [187.    80.    27.  ]\n",
            " [183.    88.    28.  ]\n",
            " [159.    40.    29.  ]\n",
            " [164.    66.    32.  ]\n",
            " [166.    56.    42.  ]]\n"
          ]
        }
      ]
    }
  ]
}